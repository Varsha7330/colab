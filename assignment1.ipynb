{
  "nbformat": 4,
  "nbformat_minor": 0,
  "metadata": {
    "colab": {
      "provenance": [],
      "authorship_tag": "ABX9TyPHZOB3UUUINBEw4yBqAsDW",
      "include_colab_link": true
    },
    "kernelspec": {
      "name": "python3",
      "display_name": "Python 3"
    },
    "language_info": {
      "name": "python"
    }
  },
  "cells": [
    {
      "cell_type": "markdown",
      "metadata": {
        "id": "view-in-github",
        "colab_type": "text"
      },
      "source": [
        "<a href=\"https://colab.research.google.com/github/Varsha7330/colab/blob/main/assignment1.ipynb\" target=\"_parent\"><img src=\"https://colab.research.google.com/assets/colab-badge.svg\" alt=\"Open In Colab\"/></a>"
      ]
    },
    {
      "cell_type": "markdown",
      "source": [
        "Perform arithmetic operations on NumPy arrays.\n"
      ],
      "metadata": {
        "id": "1MC7jUInzydb"
      }
    },
    {
      "cell_type": "code",
      "source": [
        "import numpy as np\n",
        "a=np.array([4,5,6])\n",
        "b=np.array([7,8,9])\n",
        "print(\"Addition of array: \",a+b)\n",
        "print(\"Subtraction of array: \",a-b)\n",
        "print(\"Multiplication of array: \",a*b)\n",
        "print(\"Division of array: \",a/b)\n"
      ],
      "metadata": {
        "colab": {
          "base_uri": "https://localhost:8080/"
        },
        "id": "oejGftLez9nA",
        "outputId": "a410fe92-3cc9-46e1-ceae-e2e7a8e0ca9b"
      },
      "execution_count": 1,
      "outputs": [
        {
          "output_type": "stream",
          "name": "stdout",
          "text": [
            "Addition of array:  [11 13 15]\n",
            "Subtraction of array:  [-3 -3 -3]\n",
            "Multiplication of array:  [28 40 54]\n",
            "Division of array:  [0.57142857 0.625      0.66666667]\n"
          ]
        }
      ]
    },
    {
      "cell_type": "markdown",
      "source": [
        "2.Write a script to compute the mean and standard deviation of NumPy array.\n"
      ],
      "metadata": {
        "id": "HVb-gwSS1a7u"
      }
    },
    {
      "cell_type": "code",
      "source": [
        "a=np.array([1,2,3,4,5])\n",
        "print(\"Mean of array: \",np.mean(a))\n",
        "print(\"Standard deviation of array: \",np.std(a))"
      ],
      "metadata": {
        "colab": {
          "base_uri": "https://localhost:8080/"
        },
        "id": "jki2Hjft1ncW",
        "outputId": "13b29a64-ed59-4a87-a40f-1cbbb1f48b82"
      },
      "execution_count": 2,
      "outputs": [
        {
          "output_type": "stream",
          "name": "stdout",
          "text": [
            "Mean of array:  3.0\n",
            "Standard deviation of array:  1.4142135623730951\n"
          ]
        }
      ]
    },
    {
      "cell_type": "markdown",
      "source": [
        "3. Create a NumPy array of integers from 10 to 50 with a step size of 5."
      ],
      "metadata": {
        "id": "W_5wtEVO2AO7"
      }
    },
    {
      "cell_type": "code",
      "source": [
        "a=np.arange(10,50,5)\n",
        "print(a)"
      ],
      "metadata": {
        "colab": {
          "base_uri": "https://localhost:8080/"
        },
        "id": "tc-MY_vS2B12",
        "outputId": "91dba24d-2175-4c1d-a1c9-578943f567e3"
      },
      "execution_count": 3,
      "outputs": [
        {
          "output_type": "stream",
          "name": "stdout",
          "text": [
            "[10 15 20 25 30 35 40 45]\n"
          ]
        }
      ]
    },
    {
      "cell_type": "markdown",
      "source": [
        "4. Reshape the array into a 2x4 matrix."
      ],
      "metadata": {
        "id": "rQrJiAlF2ZLO"
      }
    },
    {
      "cell_type": "code",
      "source": [
        "matrix=a.reshape(2,4)\n",
        "print(matrix)"
      ],
      "metadata": {
        "colab": {
          "base_uri": "https://localhost:8080/"
        },
        "id": "MDAy1f3v2dvb",
        "outputId": "3a5f600f-5541-4af9-e01e-9d3b20064119"
      },
      "execution_count": 4,
      "outputs": [
        {
          "output_type": "stream",
          "name": "stdout",
          "text": [
            "[[10 15 20 25]\n",
            " [30 35 40 45]]\n"
          ]
        }
      ]
    },
    {
      "cell_type": "markdown",
      "source": [
        "5. Given the array arr = np.array([[1, 2, 3], [4, 5, 6], [7, 8, 9]]):\n",
        "\n",
        "• Extract the sub-matrix containing the last two rows and first two columns.\n",
        "\n",
        "• Replace all elements greater than 4 with 0."
      ],
      "metadata": {
        "id": "6Bo38sXl27Hf"
      }
    },
    {
      "cell_type": "code",
      "source": [
        "a=np.array([[1,2,3],[4,5,6],[7,8,9]])\n",
        "sub_matrix=a[1:,:2]\n",
        "print(sub_matrix)\n",
        "a[a>4]=0\n",
        "print(a)"
      ],
      "metadata": {
        "colab": {
          "base_uri": "https://localhost:8080/"
        },
        "id": "Ld-Ozupv3FhL",
        "outputId": "a3ce4bf0-8aef-41f5-b15b-ab5414cf298e"
      },
      "execution_count": 5,
      "outputs": [
        {
          "output_type": "stream",
          "name": "stdout",
          "text": [
            "[[4 5]\n",
            " [7 8]]\n",
            "[[1 2 3]\n",
            " [4 0 0]\n",
            " [0 0 0]]\n"
          ]
        }
      ]
    },
    {
      "cell_type": "markdown",
      "source": [
        "6. Create two 1D arrays:\n",
        "\n",
        "• a = np.array([1, 2, 3])\n",
        "\n",
        "• b = np.array([4, 5, 6])\n",
        "\n",
        "• Perform element-wise addition, multiplication, and division."
      ],
      "metadata": {
        "id": "Djx3T6Rg4J-a"
      }
    },
    {
      "cell_type": "code",
      "source": [
        "a = np.array([1, 2, 3])\n",
        "b = np.array([4, 5, 6])\n",
        "print(\"Addition: \",a+b)\n",
        "print(\"Multiplication: \",a*b)\n",
        "print(\"Division: \",a/b)"
      ],
      "metadata": {
        "colab": {
          "base_uri": "https://localhost:8080/"
        },
        "id": "56WVlyHQ4Rab",
        "outputId": "a1a1a342-8bd4-46a9-bd7e-c1846bd73c20"
      },
      "execution_count": 6,
      "outputs": [
        {
          "output_type": "stream",
          "name": "stdout",
          "text": [
            "Addition:  [5 7 9]\n",
            "Multiplication:  [ 4 10 18]\n",
            "Division:  [0.25 0.4  0.5 ]\n"
          ]
        }
      ]
    },
    {
      "cell_type": "markdown",
      "source": [
        "7. Create a random NumPy array of size (4, 4). Compute:\n",
        "\n",
        "• Mean of each column.\n",
        "\n",
        "• Maximum value of the entire array.\n",
        "\n",
        "• Sum of all elements."
      ],
      "metadata": {
        "id": "4TW_QPaf4di_"
      }
    },
    {
      "cell_type": "code",
      "source": [
        "a=np.random.rand(4,4)\n",
        "print(\"Mean of each column: \",np.mean(a,axis=0))\n",
        "print(\"Maximum value of the entire array: \",np.max(a))\n",
        "print(\"Sum of all elements: \",np.sum(a))"
      ],
      "metadata": {
        "colab": {
          "base_uri": "https://localhost:8080/"
        },
        "id": "y8Awfl8s44Wy",
        "outputId": "4dc34aab-701c-4d20-9082-3d9558f1dc6a"
      },
      "execution_count": 9,
      "outputs": [
        {
          "output_type": "stream",
          "name": "stdout",
          "text": [
            "Mean of each column:  [0.65787602 0.38400977 0.4801495  0.4683005 ]\n",
            "Maximum value of the entire array:  0.9943000454654339\n",
            "Sum of all elements:  7.96134317580907\n"
          ]
        }
      ]
    },
    {
      "cell_type": "markdown",
      "source": [
        "8. Given the array arr = np.array([1, 2, 3, 4]), add 10 to each element and multiply\n",
        "the result by 2."
      ],
      "metadata": {
        "id": "ltMLwfdp5bv6"
      }
    },
    {
      "cell_type": "code",
      "source": [
        " arr = np.array([1, 2, 3, 4])\n",
        " result=2*(arr+10)\n",
        " print(result)\n"
      ],
      "metadata": {
        "colab": {
          "base_uri": "https://localhost:8080/"
        },
        "id": "lAi-wwX85gs6",
        "outputId": "a35cb740-0a88-44b7-d4e1-8eb39f13b584"
      },
      "execution_count": 10,
      "outputs": [
        {
          "output_type": "stream",
          "name": "stdout",
          "text": [
            "[22 24 26 28]\n"
          ]
        }
      ]
    },
    {
      "cell_type": "markdown",
      "source": [
        "9. Perform advanced slicing and indexing on a 3D array.\n",
        "\n",
        "Create a 3D NumPy array arr of shape (3, 4, 5) with random integers ranging from\n",
        "\n",
        "1 to 100. Perform the following:\n",
        "\n",
        "• Extract the second \"layer\" (i.e., the second 2D array) in the first dimension.\n",
        "\n",
        "• Extract the first two rows and the last three columns from each \"layer.\"\n",
        "\n",
        "• Replace all elements divisible by 3 with -1."
      ],
      "metadata": {
        "id": "NpV12oiG541q"
      }
    },
    {
      "cell_type": "code",
      "source": [
        "a=np.random.randint(1,101,size=(3,4,5))\n",
        "print(a)\n",
        "print(\"Second layer: \",a[1])\n",
        "print(\"First two rows and last three columns: \",a[:,:2,-3:])\n",
        "a[a%3==0]=-1\n",
        "print(a)"
      ],
      "metadata": {
        "colab": {
          "base_uri": "https://localhost:8080/"
        },
        "id": "PkjE_rdq6Avd",
        "outputId": "c6ac1b75-e678-421c-f231-be75a7788328"
      },
      "execution_count": 11,
      "outputs": [
        {
          "output_type": "stream",
          "name": "stdout",
          "text": [
            "[[[ 27  32  13  45  32]\n",
            "  [ 21  62  41  79   1]\n",
            "  [ 60  42  61  59 100]\n",
            "  [100  27  49  29  58]]\n",
            "\n",
            " [[ 95  30  58  17  18]\n",
            "  [  1  23   3  64  33]\n",
            "  [ 29   2  94  53  46]\n",
            "  [ 47  79  56  70  31]]\n",
            "\n",
            " [[ 54   6  19  37  99]\n",
            "  [ 84  49  17  70  66]\n",
            "  [ 93  81  94  69  43]\n",
            "  [  1  67  89  45  82]]]\n",
            "Second layer:  [[95 30 58 17 18]\n",
            " [ 1 23  3 64 33]\n",
            " [29  2 94 53 46]\n",
            " [47 79 56 70 31]]\n",
            "First two rows and last three columns:  [[[13 45 32]\n",
            "  [41 79  1]]\n",
            "\n",
            " [[58 17 18]\n",
            "  [ 3 64 33]]\n",
            "\n",
            " [[19 37 99]\n",
            "  [17 70 66]]]\n",
            "[[[ -1  32  13  -1  32]\n",
            "  [ -1  62  41  79   1]\n",
            "  [ -1  -1  61  59 100]\n",
            "  [100  -1  49  29  58]]\n",
            "\n",
            " [[ 95  -1  58  17  -1]\n",
            "  [  1  23  -1  64  -1]\n",
            "  [ 29   2  94  53  46]\n",
            "  [ 47  79  56  70  31]]\n",
            "\n",
            " [[ -1  -1  19  37  -1]\n",
            "  [ -1  49  17  70  -1]\n",
            "  [ -1  -1  94  -1  43]\n",
            "  [  1  67  89  -1  82]]]\n"
          ]
        }
      ]
    },
    {
      "cell_type": "markdown",
      "source": [
        "10. Work with broadcasting and advanced operations in NumPy.\n",
        "\n",
        "Create a NumPy array arr of shape (3, 3) with random integers between  \n",
        "1 and 20. Perform the following:\n",
        "\n",
        "• Subtract the mean of each row from its respective elements (row-wise\n",
        "normalization).\n",
        "\n",
        "• Create a new array by squaring all the elements in arr.\n",
        "\n",
        "• Find the indices of the top 3 maximum values in the entire array."
      ],
      "metadata": {
        "id": "WcDS1CSz7ZY3"
      }
    },
    {
      "cell_type": "code",
      "source": [
        "a=np.random.randint(1,21,size=(3,3))\n",
        "print(a)\n",
        "print(\"Row-wise normalization: \",a-a.mean(axis=1,keepdims=True))\n",
        "print(\"New array: \",np.square(a))\n",
        "indices=np.argsort(a.flatten())[-3:]\n",
        "print(\"Indices of top 3 maximum values: \",indices)\n"
      ],
      "metadata": {
        "colab": {
          "base_uri": "https://localhost:8080/"
        },
        "id": "GDn6HPuv7g1v",
        "outputId": "a5f9ddf7-3e6f-4015-bddb-16ac51ddc75a"
      },
      "execution_count": 15,
      "outputs": [
        {
          "output_type": "stream",
          "name": "stdout",
          "text": [
            "[[10  1 16]\n",
            " [ 5  6  4]\n",
            " [ 9  4 19]]\n",
            "Row-wise normalization:  [[ 1.         -8.          7.        ]\n",
            " [ 0.          1.         -1.        ]\n",
            " [-1.66666667 -6.66666667  8.33333333]]\n",
            "New array:  [[100   1 256]\n",
            " [ 25  36  16]\n",
            " [ 81  16 361]]\n",
            "Indices of top 3 maximum values:  [0 2 8]\n"
          ]
        }
      ]
    }
  ]
}